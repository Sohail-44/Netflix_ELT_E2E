{
 "cells": [
  {
   "cell_type": "code",
   "execution_count": 3,
   "id": "647cd950",
   "metadata": {},
   "outputs": [],
   "source": [
    "import pandas as pd\n",
    "from matplotlib import pyplot as plt\n",
    "import seaborn as sb\n",
    "import numpy as np"
   ]
  },
  {
   "cell_type": "code",
   "execution_count": 4,
   "id": "d1d3683a",
   "metadata": {},
   "outputs": [],
   "source": [
    "df_netflix = pd.read_csv('netflix_titles.csv')\n",
    "df_netflixCustomer = pd.read_csv('netflix_customer_churn.csv')\n"
   ]
  },
  {
   "cell_type": "markdown",
   "id": "a3757e8e",
   "metadata": {},
   "source": [
    "### Purpose is to practice Exploratory Data Analysis along with data cleaning, manipulating and wrangling on my own. Additionally learning how to be strategic business wise and ask problem-solving questions. "
   ]
  },
  {
   "cell_type": "code",
   "execution_count": 5,
   "id": "a8c856f8",
   "metadata": {},
   "outputs": [
    {
     "data": {
      "text/html": [
       "<div>\n",
       "<style scoped>\n",
       "    .dataframe tbody tr th:only-of-type {\n",
       "        vertical-align: middle;\n",
       "    }\n",
       "\n",
       "    .dataframe tbody tr th {\n",
       "        vertical-align: top;\n",
       "    }\n",
       "\n",
       "    .dataframe thead th {\n",
       "        text-align: right;\n",
       "    }\n",
       "</style>\n",
       "<table border=\"1\" class=\"dataframe\">\n",
       "  <thead>\n",
       "    <tr style=\"text-align: right;\">\n",
       "      <th></th>\n",
       "      <th>show_id</th>\n",
       "      <th>type</th>\n",
       "      <th>title</th>\n",
       "      <th>director</th>\n",
       "      <th>cast</th>\n",
       "      <th>country</th>\n",
       "      <th>date_added</th>\n",
       "      <th>release_year</th>\n",
       "      <th>rating</th>\n",
       "      <th>duration</th>\n",
       "      <th>listed_in</th>\n",
       "      <th>description</th>\n",
       "    </tr>\n",
       "  </thead>\n",
       "  <tbody>\n",
       "    <tr>\n",
       "      <th>0</th>\n",
       "      <td>s1</td>\n",
       "      <td>Movie</td>\n",
       "      <td>Dick Johnson Is Dead</td>\n",
       "      <td>Kirsten Johnson</td>\n",
       "      <td>NaN</td>\n",
       "      <td>United States</td>\n",
       "      <td>September 25, 2021</td>\n",
       "      <td>2020</td>\n",
       "      <td>PG-13</td>\n",
       "      <td>90 min</td>\n",
       "      <td>Documentaries</td>\n",
       "      <td>As her father nears the end of his life, filmm...</td>\n",
       "    </tr>\n",
       "    <tr>\n",
       "      <th>1</th>\n",
       "      <td>s2</td>\n",
       "      <td>TV Show</td>\n",
       "      <td>Blood &amp; Water</td>\n",
       "      <td>NaN</td>\n",
       "      <td>Ama Qamata, Khosi Ngema, Gail Mabalane, Thaban...</td>\n",
       "      <td>South Africa</td>\n",
       "      <td>September 24, 2021</td>\n",
       "      <td>2021</td>\n",
       "      <td>TV-MA</td>\n",
       "      <td>2 Seasons</td>\n",
       "      <td>International TV Shows, TV Dramas, TV Mysteries</td>\n",
       "      <td>After crossing paths at a party, a Cape Town t...</td>\n",
       "    </tr>\n",
       "    <tr>\n",
       "      <th>2</th>\n",
       "      <td>s3</td>\n",
       "      <td>TV Show</td>\n",
       "      <td>Ganglands</td>\n",
       "      <td>Julien Leclercq</td>\n",
       "      <td>Sami Bouajila, Tracy Gotoas, Samuel Jouy, Nabi...</td>\n",
       "      <td>NaN</td>\n",
       "      <td>September 24, 2021</td>\n",
       "      <td>2021</td>\n",
       "      <td>TV-MA</td>\n",
       "      <td>1 Season</td>\n",
       "      <td>Crime TV Shows, International TV Shows, TV Act...</td>\n",
       "      <td>To protect his family from a powerful drug lor...</td>\n",
       "    </tr>\n",
       "    <tr>\n",
       "      <th>3</th>\n",
       "      <td>s4</td>\n",
       "      <td>TV Show</td>\n",
       "      <td>Jailbirds New Orleans</td>\n",
       "      <td>NaN</td>\n",
       "      <td>NaN</td>\n",
       "      <td>NaN</td>\n",
       "      <td>September 24, 2021</td>\n",
       "      <td>2021</td>\n",
       "      <td>TV-MA</td>\n",
       "      <td>1 Season</td>\n",
       "      <td>Docuseries, Reality TV</td>\n",
       "      <td>Feuds, flirtations and toilet talk go down amo...</td>\n",
       "    </tr>\n",
       "    <tr>\n",
       "      <th>4</th>\n",
       "      <td>s5</td>\n",
       "      <td>TV Show</td>\n",
       "      <td>Kota Factory</td>\n",
       "      <td>NaN</td>\n",
       "      <td>Mayur More, Jitendra Kumar, Ranjan Raj, Alam K...</td>\n",
       "      <td>India</td>\n",
       "      <td>September 24, 2021</td>\n",
       "      <td>2021</td>\n",
       "      <td>TV-MA</td>\n",
       "      <td>2 Seasons</td>\n",
       "      <td>International TV Shows, Romantic TV Shows, TV ...</td>\n",
       "      <td>In a city of coaching centers known to train I...</td>\n",
       "    </tr>\n",
       "  </tbody>\n",
       "</table>\n",
       "</div>"
      ],
      "text/plain": [
       "  show_id     type                  title         director  \\\n",
       "0      s1    Movie   Dick Johnson Is Dead  Kirsten Johnson   \n",
       "1      s2  TV Show          Blood & Water              NaN   \n",
       "2      s3  TV Show              Ganglands  Julien Leclercq   \n",
       "3      s4  TV Show  Jailbirds New Orleans              NaN   \n",
       "4      s5  TV Show           Kota Factory              NaN   \n",
       "\n",
       "                                                cast        country  \\\n",
       "0                                                NaN  United States   \n",
       "1  Ama Qamata, Khosi Ngema, Gail Mabalane, Thaban...   South Africa   \n",
       "2  Sami Bouajila, Tracy Gotoas, Samuel Jouy, Nabi...            NaN   \n",
       "3                                                NaN            NaN   \n",
       "4  Mayur More, Jitendra Kumar, Ranjan Raj, Alam K...          India   \n",
       "\n",
       "           date_added  release_year rating   duration  \\\n",
       "0  September 25, 2021          2020  PG-13     90 min   \n",
       "1  September 24, 2021          2021  TV-MA  2 Seasons   \n",
       "2  September 24, 2021          2021  TV-MA   1 Season   \n",
       "3  September 24, 2021          2021  TV-MA   1 Season   \n",
       "4  September 24, 2021          2021  TV-MA  2 Seasons   \n",
       "\n",
       "                                           listed_in  \\\n",
       "0                                      Documentaries   \n",
       "1    International TV Shows, TV Dramas, TV Mysteries   \n",
       "2  Crime TV Shows, International TV Shows, TV Act...   \n",
       "3                             Docuseries, Reality TV   \n",
       "4  International TV Shows, Romantic TV Shows, TV ...   \n",
       "\n",
       "                                         description  \n",
       "0  As her father nears the end of his life, filmm...  \n",
       "1  After crossing paths at a party, a Cape Town t...  \n",
       "2  To protect his family from a powerful drug lor...  \n",
       "3  Feuds, flirtations and toilet talk go down amo...  \n",
       "4  In a city of coaching centers known to train I...  "
      ]
     },
     "execution_count": 5,
     "metadata": {},
     "output_type": "execute_result"
    }
   ],
   "source": [
    "df_netflix.head()"
   ]
  },
  {
   "cell_type": "code",
   "execution_count": 6,
   "id": "2588fc74",
   "metadata": {},
   "outputs": [
    {
     "data": {
      "text/html": [
       "<div>\n",
       "<style scoped>\n",
       "    .dataframe tbody tr th:only-of-type {\n",
       "        vertical-align: middle;\n",
       "    }\n",
       "\n",
       "    .dataframe tbody tr th {\n",
       "        vertical-align: top;\n",
       "    }\n",
       "\n",
       "    .dataframe thead th {\n",
       "        text-align: right;\n",
       "    }\n",
       "</style>\n",
       "<table border=\"1\" class=\"dataframe\">\n",
       "  <thead>\n",
       "    <tr style=\"text-align: right;\">\n",
       "      <th></th>\n",
       "      <th>customer_id</th>\n",
       "      <th>age</th>\n",
       "      <th>gender</th>\n",
       "      <th>subscription_type</th>\n",
       "      <th>watch_hours</th>\n",
       "      <th>last_login_days</th>\n",
       "      <th>region</th>\n",
       "      <th>device</th>\n",
       "      <th>monthly_fee</th>\n",
       "      <th>churned</th>\n",
       "      <th>payment_method</th>\n",
       "      <th>number_of_profiles</th>\n",
       "      <th>avg_watch_time_per_day</th>\n",
       "      <th>favorite_genre</th>\n",
       "    </tr>\n",
       "  </thead>\n",
       "  <tbody>\n",
       "    <tr>\n",
       "      <th>0</th>\n",
       "      <td>a9b75100-82a8-427a-a208-72f24052884a</td>\n",
       "      <td>51</td>\n",
       "      <td>Other</td>\n",
       "      <td>Basic</td>\n",
       "      <td>14.73</td>\n",
       "      <td>29</td>\n",
       "      <td>Africa</td>\n",
       "      <td>TV</td>\n",
       "      <td>8.99</td>\n",
       "      <td>1</td>\n",
       "      <td>Gift Card</td>\n",
       "      <td>1</td>\n",
       "      <td>0.49</td>\n",
       "      <td>Action</td>\n",
       "    </tr>\n",
       "    <tr>\n",
       "      <th>1</th>\n",
       "      <td>49a5dfd9-7e69-4022-a6ad-0a1b9767fb5b</td>\n",
       "      <td>47</td>\n",
       "      <td>Other</td>\n",
       "      <td>Standard</td>\n",
       "      <td>0.70</td>\n",
       "      <td>19</td>\n",
       "      <td>Europe</td>\n",
       "      <td>Mobile</td>\n",
       "      <td>13.99</td>\n",
       "      <td>1</td>\n",
       "      <td>Gift Card</td>\n",
       "      <td>5</td>\n",
       "      <td>0.03</td>\n",
       "      <td>Sci-Fi</td>\n",
       "    </tr>\n",
       "    <tr>\n",
       "      <th>2</th>\n",
       "      <td>4d71f6ce-fca9-4ff7-8afa-197ac24de14b</td>\n",
       "      <td>27</td>\n",
       "      <td>Female</td>\n",
       "      <td>Standard</td>\n",
       "      <td>16.32</td>\n",
       "      <td>10</td>\n",
       "      <td>Asia</td>\n",
       "      <td>TV</td>\n",
       "      <td>13.99</td>\n",
       "      <td>0</td>\n",
       "      <td>Crypto</td>\n",
       "      <td>2</td>\n",
       "      <td>1.48</td>\n",
       "      <td>Drama</td>\n",
       "    </tr>\n",
       "    <tr>\n",
       "      <th>3</th>\n",
       "      <td>d3c72c38-631b-4f9e-8a0e-de103cad1a7d</td>\n",
       "      <td>53</td>\n",
       "      <td>Other</td>\n",
       "      <td>Premium</td>\n",
       "      <td>4.51</td>\n",
       "      <td>12</td>\n",
       "      <td>Oceania</td>\n",
       "      <td>TV</td>\n",
       "      <td>17.99</td>\n",
       "      <td>1</td>\n",
       "      <td>Crypto</td>\n",
       "      <td>2</td>\n",
       "      <td>0.35</td>\n",
       "      <td>Horror</td>\n",
       "    </tr>\n",
       "    <tr>\n",
       "      <th>4</th>\n",
       "      <td>4e265c34-103a-4dbb-9553-76c9aa47e946</td>\n",
       "      <td>56</td>\n",
       "      <td>Other</td>\n",
       "      <td>Standard</td>\n",
       "      <td>1.89</td>\n",
       "      <td>13</td>\n",
       "      <td>Africa</td>\n",
       "      <td>Mobile</td>\n",
       "      <td>13.99</td>\n",
       "      <td>1</td>\n",
       "      <td>Crypto</td>\n",
       "      <td>2</td>\n",
       "      <td>0.13</td>\n",
       "      <td>Action</td>\n",
       "    </tr>\n",
       "  </tbody>\n",
       "</table>\n",
       "</div>"
      ],
      "text/plain": [
       "                            customer_id  age  gender subscription_type  \\\n",
       "0  a9b75100-82a8-427a-a208-72f24052884a   51   Other             Basic   \n",
       "1  49a5dfd9-7e69-4022-a6ad-0a1b9767fb5b   47   Other          Standard   \n",
       "2  4d71f6ce-fca9-4ff7-8afa-197ac24de14b   27  Female          Standard   \n",
       "3  d3c72c38-631b-4f9e-8a0e-de103cad1a7d   53   Other           Premium   \n",
       "4  4e265c34-103a-4dbb-9553-76c9aa47e946   56   Other          Standard   \n",
       "\n",
       "   watch_hours  last_login_days   region  device  monthly_fee  churned  \\\n",
       "0        14.73               29   Africa      TV         8.99        1   \n",
       "1         0.70               19   Europe  Mobile        13.99        1   \n",
       "2        16.32               10     Asia      TV        13.99        0   \n",
       "3         4.51               12  Oceania      TV        17.99        1   \n",
       "4         1.89               13   Africa  Mobile        13.99        1   \n",
       "\n",
       "  payment_method  number_of_profiles  avg_watch_time_per_day favorite_genre  \n",
       "0      Gift Card                   1                    0.49         Action  \n",
       "1      Gift Card                   5                    0.03         Sci-Fi  \n",
       "2         Crypto                   2                    1.48          Drama  \n",
       "3         Crypto                   2                    0.35         Horror  \n",
       "4         Crypto                   2                    0.13         Action  "
      ]
     },
     "execution_count": 6,
     "metadata": {},
     "output_type": "execute_result"
    }
   ],
   "source": [
    "df_netflixCustomer.head()"
   ]
  },
  {
   "cell_type": "code",
   "execution_count": 7,
   "id": "e05b55f7",
   "metadata": {},
   "outputs": [
    {
     "data": {
      "text/plain": [
       "(8807, 12)"
      ]
     },
     "execution_count": 7,
     "metadata": {},
     "output_type": "execute_result"
    }
   ],
   "source": [
    "df_netflix.shape # 8807 rows and 12 columns"
   ]
  },
  {
   "cell_type": "code",
   "execution_count": 8,
   "id": "ba745023",
   "metadata": {},
   "outputs": [
    {
     "data": {
      "text/plain": [
       "(5000, 14)"
      ]
     },
     "execution_count": 8,
     "metadata": {},
     "output_type": "execute_result"
    }
   ],
   "source": [
    "df_netflixCustomer.shape # 5000 rows and 14 columns"
   ]
  },
  {
   "cell_type": "code",
   "execution_count": 9,
   "id": "2c9331cf",
   "metadata": {},
   "outputs": [
    {
     "name": "stdout",
     "output_type": "stream",
     "text": [
      "<class 'pandas.core.frame.DataFrame'>\n",
      "RangeIndex: 8807 entries, 0 to 8806\n",
      "Data columns (total 12 columns):\n",
      " #   Column        Non-Null Count  Dtype \n",
      "---  ------        --------------  ----- \n",
      " 0   show_id       8807 non-null   object\n",
      " 1   type          8807 non-null   object\n",
      " 2   title         8807 non-null   object\n",
      " 3   director      6173 non-null   object\n",
      " 4   cast          7982 non-null   object\n",
      " 5   country       7976 non-null   object\n",
      " 6   date_added    8797 non-null   object\n",
      " 7   release_year  8807 non-null   int64 \n",
      " 8   rating        8803 non-null   object\n",
      " 9   duration      8804 non-null   object\n",
      " 10  listed_in     8807 non-null   object\n",
      " 11  description   8807 non-null   object\n",
      "dtypes: int64(1), object(11)\n",
      "memory usage: 825.8+ KB\n"
     ]
    }
   ],
   "source": [
    "df_netflix.info()"
   ]
  },
  {
   "cell_type": "code",
   "execution_count": 10,
   "id": "0b3bdc9f",
   "metadata": {},
   "outputs": [
    {
     "data": {
      "text/plain": [
       "0         Movie\n",
       "1       TV Show\n",
       "2       TV Show\n",
       "3       TV Show\n",
       "4       TV Show\n",
       "         ...   \n",
       "8802      Movie\n",
       "8803    TV Show\n",
       "8804      Movie\n",
       "8805      Movie\n",
       "8806      Movie\n",
       "Name: type, Length: 8807, dtype: object"
      ]
     },
     "execution_count": 10,
     "metadata": {},
     "output_type": "execute_result"
    }
   ],
   "source": [
    "# lets access some columns to understand more our data and also about user preferencences \n",
    "df_netflix['type']"
   ]
  },
  {
   "cell_type": "code",
   "execution_count": 11,
   "id": "322c28ef",
   "metadata": {},
   "outputs": [
    {
     "data": {
      "text/plain": [
       "type\n",
       "Movie      6131\n",
       "TV Show    2676\n",
       "Name: count, dtype: int64"
      ]
     },
     "execution_count": 11,
     "metadata": {},
     "output_type": "execute_result"
    }
   ],
   "source": [
    "# I can only see Movie and TV Show in the type -- types of entertainment media on Netflix \n",
    "# Lets do a simple count using value counts method\n",
    "df_netflix['type'].value_counts()"
   ]
  },
  {
   "cell_type": "code",
   "execution_count": 12,
   "id": "aebec43d",
   "metadata": {},
   "outputs": [
    {
     "data": {
      "text/plain": [
       "<Axes: xlabel='type', ylabel='count'>"
      ]
     },
     "execution_count": 12,
     "metadata": {},
     "output_type": "execute_result"
    },
    {
     "data": {
      "image/png": "[encoded data removed]",
      "text/plain": [
       "<Figure size 640x480 with 1 Axes>"
      ]
     },
     "metadata": {},
     "output_type": "display_data"
    }
   ],
   "source": [
    "# Interesting info from value counts -- people are preferring Movie compared to TV Show\n",
    "# Lets graph it and then do some percentage analysis\n",
    "sb.barplot(df_netflix['type'].value_counts())"
   ]
  },
  {
   "cell_type": "code",
   "execution_count": 13,
   "id": "4a15cc38",
   "metadata": {},
   "outputs": [],
   "source": [
    "# Percentage analysis \n",
    "Movie_pref = 6131\n",
    "TV_Show = 2676\n",
    "Total_Content = Movie_pref + TV_Show\n",
    "\n",
    "MoviePercent = Movie_pref * 100/ Total_Content\n",
    "TvShow_Percent = TV_Show * 100/ Total_Content\n",
    "\n",
    "\n"
   ]
  },
  {
   "cell_type": "code",
   "execution_count": 14,
   "id": "de366336",
   "metadata": {},
   "outputs": [
    {
     "name": "stdout",
     "output_type": "stream",
     "text": [
      "69.61507891449983\n",
      "30.38492108550017\n"
     ]
    }
   ],
   "source": [
    "print(MoviePercent)\n",
    "print(TvShow_Percent)"
   ]
  },
  {
   "cell_type": "code",
   "execution_count": 15,
   "id": "75a6ca5a",
   "metadata": {},
   "outputs": [],
   "source": [
    "# Percentage Analysis of Type of Entertainment media preferred on Netflix\n",
    "Entertainment_Type = [MoviePercent, TvShow_Percent]\n"
   ]
  },
  {
   "cell_type": "code",
   "execution_count": 16,
   "id": "3e6edb9f",
   "metadata": {},
   "outputs": [
    {
     "data": {
      "text/plain": [
       "<Axes: >"
      ]
     },
     "execution_count": 16,
     "metadata": {},
     "output_type": "execute_result"
    },
    {
     "data": {
      "image/png": "[encoded data removed]",
      "text/plain": [
       "<Figure size 640x480 with 1 Axes>"
      ]
     },
     "metadata": {},
     "output_type": "display_data"
    }
   ],
   "source": [
    "sb.barplot(Entertainment_Type)"
   ]
  },
  {
   "cell_type": "code",
   "execution_count": null,
   "id": "b8c29fc6",
   "metadata": {},
   "outputs": [
    {
     "data": {
      "text/plain": [
       "director\n",
       "Rajiv Chilaka                     19\n",
       "Raúl Campos, Jan Suter            18\n",
       "Marcus Raboy                      16\n",
       "Suhas Kadav                       16\n",
       "Jay Karas                         14\n",
       "                                  ..\n",
       "Raymie Muzquiz, Stu Livingston     1\n",
       "Joe Menendez                       1\n",
       "Eric Bross                         1\n",
       "Will Eisenberg                     1\n",
       "Mozez Singh                        1\n",
       "Name: count, Length: 4528, dtype: int64"
      ]
     },
     "execution_count": 28,
     "metadata": {},
     "output_type": "execute_result"
    }
   ],
   "source": [
    "# Interesting this is showing how many films each director has directed \n",
    "df_netflix['director'].value_counts() # altogether 4528 directors"
   ]
  },
  {
   "cell_type": "code",
   "execution_count": 54,
   "id": "3e6ae5a1",
   "metadata": {},
   "outputs": [],
   "source": [
    "\n",
    "# lets do this : 1. lets see how many directors who have director 5 or more movies  \n",
    "Top_directors = df_netflix['director'].value_counts()>=5\n"
   ]
  },
  {
   "cell_type": "markdown",
   "id": "6fa006de",
   "metadata": {},
   "source": [
    "#### Reminder to me : Figuring out relationship between different variables such as most directed shows and their duration or their rating or country or listed in (documentary, mystery, drama, international tv )."
   ]
  },
  {
   "cell_type": "code",
   "execution_count": null,
   "id": "dd33eabb",
   "metadata": {},
   "outputs": [
    {
     "data": {
      "text/plain": [
       "count\n",
       "False    4436\n",
       "True       92\n",
       "Name: count, dtype: int64"
      ]
     },
     "execution_count": 55,
     "metadata": {},
     "output_type": "execute_result"
    }
   ],
   "source": [
    "# Wow so basically Only 92 out of 4528  Directors who have directed in 5 or more movies -- most of the directors are amateur \n",
    "Top_directors.value_counts()"
   ]
  },
  {
   "cell_type": "code",
   "execution_count": 57,
   "id": "d8a4711c",
   "metadata": {},
   "outputs": [],
   "source": [
    "# Lets do simple percentage analysis of directors with experience and amateur directors \n",
    "four_or_less_m_directors = 4436\n",
    "five_or_more_m_directors = 92\n",
    "Total_directors = 4528\n",
    "\n",
    "four_or_less_percent = 4436*100/4528\n",
    "five_or_more_percent = 92*100/4528\n",
    "\n"
   ]
  },
  {
   "cell_type": "code",
   "execution_count": 60,
   "id": "1ca88c71",
   "metadata": {},
   "outputs": [
    {
     "data": {
      "text/plain": [
       "97.96819787985866"
      ]
     },
     "execution_count": 60,
     "metadata": {},
     "output_type": "execute_result"
    }
   ],
   "source": [
    "four_or_less_percent\n"
   ]
  },
  {
   "cell_type": "code",
   "execution_count": 61,
   "id": "ebd040d9",
   "metadata": {},
   "outputs": [
    {
     "data": {
      "text/plain": [
       "2.0318021201413425"
      ]
     },
     "execution_count": 61,
     "metadata": {},
     "output_type": "execute_result"
    }
   ],
   "source": [
    "five_or_more_percent"
   ]
  },
  {
   "cell_type": "code",
   "execution_count": 62,
   "id": "25fcb3b0",
   "metadata": {},
   "outputs": [
    {
     "data": {
      "text/plain": [
       "<Axes: >"
      ]
     },
     "execution_count": 62,
     "metadata": {},
     "output_type": "execute_result"
    },
    {
     "data": {
      "image/png": "[encoded data removed]",
      "text/plain": [
       "<Figure size 640x480 with 1 Axes>"
      ]
     },
     "metadata": {},
     "output_type": "display_data"
    }
   ],
   "source": [
    "directors_experience = [four_or_less_percent, five_or_more_percent]\n",
    "sb.barplot(directors_experience)"
   ]
  },
  {
   "cell_type": "code",
   "execution_count": null,
   "id": "115e70bd",
   "metadata": {},
   "outputs": [
    {
     "data": {
      "text/plain": [
       "country\n",
       "United States     2818\n",
       "India              972\n",
       "United Kingdom     419\n",
       "Japan              245\n",
       "South Korea        199\n",
       "Name: count, dtype: int64"
      ]
     },
     "execution_count": 87,
     "metadata": {},
     "output_type": "execute_result"
    }
   ],
   "source": [
    "df_netflix['country'].value_counts().head(5) # Wow US, India, UK, Japan and South Korea top five countries producing\n",
    "# netflix shows "
   ]
  },
  {
   "cell_type": "code",
   "execution_count": 91,
   "id": "f686022e",
   "metadata": {},
   "outputs": [
    {
     "data": {
      "text/plain": [
       "<Axes: xlabel='country', ylabel='count'>"
      ]
     },
     "execution_count": 91,
     "metadata": {},
     "output_type": "execute_result"
    },
    {
     "data": {
      "image/png": "[encoded data removed]",
      "text/plain": [
       "<Figure size 640x480 with 1 Axes>"
      ]
     },
     "metadata": {},
     "output_type": "display_data"
    }
   ],
   "source": [
    "sb.barplot(df_netflix['country'].value_counts().head(5))"
   ]
  },
  {
   "cell_type": "code",
   "execution_count": 92,
   "id": "36377188",
   "metadata": {},
   "outputs": [
    {
     "data": {
      "text/html": [
       "<div>\n",
       "<style scoped>\n",
       "    .dataframe tbody tr th:only-of-type {\n",
       "        vertical-align: middle;\n",
       "    }\n",
       "\n",
       "    .dataframe tbody tr th {\n",
       "        vertical-align: top;\n",
       "    }\n",
       "\n",
       "    .dataframe thead th {\n",
       "        text-align: right;\n",
       "    }\n",
       "</style>\n",
       "<table border=\"1\" class=\"dataframe\">\n",
       "  <thead>\n",
       "    <tr style=\"text-align: right;\">\n",
       "      <th></th>\n",
       "      <th>title</th>\n",
       "      <th>description</th>\n",
       "    </tr>\n",
       "  </thead>\n",
       "  <tbody>\n",
       "    <tr>\n",
       "      <th>0</th>\n",
       "      <td>Dick Johnson Is Dead</td>\n",
       "      <td>As her father nears the end of his life, filmm...</td>\n",
       "    </tr>\n",
       "    <tr>\n",
       "      <th>1</th>\n",
       "      <td>Blood &amp; Water</td>\n",
       "      <td>After crossing paths at a party, a Cape Town t...</td>\n",
       "    </tr>\n",
       "    <tr>\n",
       "      <th>2</th>\n",
       "      <td>Ganglands</td>\n",
       "      <td>To protect his family from a powerful drug lor...</td>\n",
       "    </tr>\n",
       "    <tr>\n",
       "      <th>3</th>\n",
       "      <td>Jailbirds New Orleans</td>\n",
       "      <td>Feuds, flirtations and toilet talk go down amo...</td>\n",
       "    </tr>\n",
       "    <tr>\n",
       "      <th>4</th>\n",
       "      <td>Kota Factory</td>\n",
       "      <td>In a city of coaching centers known to train I...</td>\n",
       "    </tr>\n",
       "    <tr>\n",
       "      <th>...</th>\n",
       "      <td>...</td>\n",
       "      <td>...</td>\n",
       "    </tr>\n",
       "    <tr>\n",
       "      <th>8802</th>\n",
       "      <td>Zodiac</td>\n",
       "      <td>A political cartoonist, a crime reporter and a...</td>\n",
       "    </tr>\n",
       "    <tr>\n",
       "      <th>8803</th>\n",
       "      <td>Zombie Dumb</td>\n",
       "      <td>While living alone in a spooky town, a young g...</td>\n",
       "    </tr>\n",
       "    <tr>\n",
       "      <th>8804</th>\n",
       "      <td>Zombieland</td>\n",
       "      <td>Looking to survive in a world taken over by zo...</td>\n",
       "    </tr>\n",
       "    <tr>\n",
       "      <th>8805</th>\n",
       "      <td>Zoom</td>\n",
       "      <td>Dragged from civilian life, a former superhero...</td>\n",
       "    </tr>\n",
       "    <tr>\n",
       "      <th>8806</th>\n",
       "      <td>Zubaan</td>\n",
       "      <td>A scrappy but poor boy worms his way into a ty...</td>\n",
       "    </tr>\n",
       "  </tbody>\n",
       "</table>\n",
       "<p>8807 rows × 2 columns</p>\n",
       "</div>"
      ],
      "text/plain": [
       "                      title                                        description\n",
       "0      Dick Johnson Is Dead  As her father nears the end of his life, filmm...\n",
       "1             Blood & Water  After crossing paths at a party, a Cape Town t...\n",
       "2                 Ganglands  To protect his family from a powerful drug lor...\n",
       "3     Jailbirds New Orleans  Feuds, flirtations and toilet talk go down amo...\n",
       "4              Kota Factory  In a city of coaching centers known to train I...\n",
       "...                     ...                                                ...\n",
       "8802                 Zodiac  A political cartoonist, a crime reporter and a...\n",
       "8803            Zombie Dumb  While living alone in a spooky town, a young g...\n",
       "8804             Zombieland  Looking to survive in a world taken over by zo...\n",
       "8805                   Zoom  Dragged from civilian life, a former superhero...\n",
       "8806                 Zubaan  A scrappy but poor boy worms his way into a ty...\n",
       "\n",
       "[8807 rows x 2 columns]"
      ]
     },
     "execution_count": 92,
     "metadata": {},
     "output_type": "execute_result"
    }
   ],
   "source": [
    "# lets make a filter of movies title and its description \n",
    "df_netflix[['title', 'description']]"
   ]
  },
  {
   "cell_type": "code",
   "execution_count": 93,
   "id": "df2d1e79",
   "metadata": {},
   "outputs": [],
   "source": [
    "# lets try to basically make a dictionary where key is title name and value is its description\n",
    "title_desc_dict = {\"df_netflix['title']\" : \"df_netflix['description']\"}"
   ]
  },
  {
   "cell_type": "code",
   "execution_count": 94,
   "id": "3dc3ab83",
   "metadata": {},
   "outputs": [
    {
     "name": "stdout",
     "output_type": "stream",
     "text": [
      "df_netflix['description']\n"
     ]
    }
   ],
   "source": [
    "print(title_desc_dict['df_netflix[\\'title\\']'])"
   ]
  }
 ],
 "metadata": {
  "kernelspec": {
   "display_name": "base",
   "language": "python",
   "name": "python3"
  },
  "language_info": {
   "codemirror_mode": {
    "name": "ipython",
    "version": 3
   },
   "file_extension": ".py",
   "mimetype": "text/x-python",
   "name": "python",
   "nbconvert_exporter": "python",
   "pygments_lexer": "ipython3",
   "version": "3.12.7"
  }
 },
 "nbformat": 4,
 "nbformat_minor": 5
}
